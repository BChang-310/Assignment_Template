{
 "cells": [
  {
   "cell_type": "code",
   "execution_count": null,
   "id": "3a3ce951",
   "metadata": {},
   "outputs": [],
   "source": [
    "import numpy as np\n",
    "\n",
    "class MyClass:\n",
    "    def __init__(self):\n",
    "        self.val = 0"
   ]
  },
  {
   "cell_type": "code",
   "execution_count": null,
   "id": "08937394",
   "metadata": {},
   "outputs": [],
   "source": [
    "class AnotherClass():\n",
    "    def __init__(self):\n",
    "        self.a = MyClass()\n",
    "        return\n",
    "    \n",
    "    def MyFunc(self, first_input):\n",
    "        first_input = first_input + 1 # Delete this line\n",
    "        return self.a.val + first_input"
   ]
  }
 ],
 "metadata": {
  "kernelspec": {
   "display_name": "Python 3",
   "language": "python",
   "name": "python3"
  },
  "language_info": {
   "codemirror_mode": {
    "name": "ipython",
    "version": 3
   },
   "file_extension": ".py",
   "mimetype": "text/x-python",
   "name": "python",
   "nbconvert_exporter": "python",
   "pygments_lexer": "ipython3",
   "version": "3.8.8"
  }
 },
 "nbformat": 4,
 "nbformat_minor": 5
}
